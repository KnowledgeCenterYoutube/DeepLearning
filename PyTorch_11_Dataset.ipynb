{
  "nbformat": 4,
  "nbformat_minor": 0,
  "metadata": {
    "colab": {
      "name": "PyTorch_11_Dataset.ipynb",
      "provenance": [],
      "authorship_tag": "ABX9TyM9MfoKJKDSwrTSElTSrwrW"
    },
    "kernelspec": {
      "name": "python3",
      "display_name": "Python 3"
    },
    "language_info": {
      "name": "python"
    }
  },
  "cells": [
    {
      "cell_type": "code",
      "source": [
        "import torch\n",
        "from torch.utils.data import Dataset\n",
        "import numpy as np\n",
        "import torchvision\n",
        "from torchvision import transforms"
      ],
      "metadata": {
        "id": "5RjhBrMYmqUC"
      },
      "execution_count": 1,
      "outputs": []
    },
    {
      "cell_type": "markdown",
      "source": [
        "### Create custom Dataset"
      ],
      "metadata": {
        "id": "MVhDFEEUnRUi"
      }
    },
    {
      "cell_type": "code",
      "source": [
        "class MyDataset(Dataset):\n",
        "  def __init__(self, transform=None):\n",
        "    data = np.loadtxt('data_1.csv', delimiter=',', skiprows=1)\n",
        "    self.x = torch.from_numpy(data[:, 0:2])\n",
        "    self.y = torch.from_numpy(data[:, 2])\n",
        "    self.transform = transform\n",
        "    self.length = data.shape[0]\n",
        "\n",
        "  def __getitem__(self, index):\n",
        "    sample = self.x[index], self.y[index]\n",
        "    if self.transform:\n",
        "      sample = self.transform(sample)\n",
        "    return sample\n",
        "\n",
        "  def __len__(self):\n",
        "    return self.length"
      ],
      "metadata": {
        "id": "jSym87zenVFb"
      },
      "execution_count": 2,
      "outputs": []
    },
    {
      "cell_type": "code",
      "source": [
        "ds = MyDataset()\n",
        "for i in range(3):\n",
        "  x, y = ds[i]\n",
        "  print(x, y)"
      ],
      "metadata": {
        "colab": {
          "base_uri": "https://localhost:8080/"
        },
        "id": "Xp_G1Clus9bw",
        "outputId": "b1caca0b-0fdb-4517-d4e9-de96b28cce24"
      },
      "execution_count": 3,
      "outputs": [
        {
          "output_type": "stream",
          "name": "stdout",
          "text": [
            "tensor([10., 20.], dtype=torch.float64) tensor(2., dtype=torch.float64)\n",
            "tensor([ 5., 25.], dtype=torch.float64) tensor(1., dtype=torch.float64)\n",
            "tensor([2., 7.], dtype=torch.float64) tensor(0., dtype=torch.float64)\n"
          ]
        }
      ]
    },
    {
      "cell_type": "code",
      "source": [
        "len(ds)"
      ],
      "metadata": {
        "colab": {
          "base_uri": "https://localhost:8080/"
        },
        "id": "Cev_fSTctMA_",
        "outputId": "26c60127-3083-4996-d9ff-6cbd36ccecbe"
      },
      "execution_count": 4,
      "outputs": [
        {
          "output_type": "execute_result",
          "data": {
            "text/plain": [
              "5"
            ]
          },
          "metadata": {},
          "execution_count": 4
        }
      ]
    },
    {
      "cell_type": "markdown",
      "source": [
        "### Create Tranforms"
      ],
      "metadata": {
        "id": "3X2bJUBynbn0"
      }
    },
    {
      "cell_type": "code",
      "source": [
        "class TrA(object):\n",
        "  def __init__(self, s=1):\n",
        "    self.s = s\n",
        "  \n",
        "  def __call__(self, sample):\n",
        "    x = sample[0]*self.s\n",
        "    y = sample[1]*self.s\n",
        "    sample = x, y\n",
        "    return sample\n"
      ],
      "metadata": {
        "id": "SW1Qh7KznfIE"
      },
      "execution_count": 5,
      "outputs": []
    },
    {
      "cell_type": "code",
      "source": [
        "tr1 = TrA(s=10)\n",
        "ds1 = MyDataset(transform=tr1)\n",
        "for i in range(3):\n",
        "  x, y = ds1[i]\n",
        "  print(x, y)"
      ],
      "metadata": {
        "colab": {
          "base_uri": "https://localhost:8080/"
        },
        "id": "gEm7ZfeFtuLJ",
        "outputId": "294b2e1e-9aba-44e5-e36b-ca23cb5313a0"
      },
      "execution_count": 7,
      "outputs": [
        {
          "output_type": "stream",
          "name": "stdout",
          "text": [
            "tensor([100., 200.], dtype=torch.float64) tensor(20., dtype=torch.float64)\n",
            "tensor([ 50., 250.], dtype=torch.float64) tensor(10., dtype=torch.float64)\n",
            "tensor([20., 70.], dtype=torch.float64) tensor(0., dtype=torch.float64)\n"
          ]
        }
      ]
    },
    {
      "cell_type": "markdown",
      "source": [
        "### Compose Transforms"
      ],
      "metadata": {
        "id": "eZcgS6Krnfuy"
      }
    },
    {
      "cell_type": "code",
      "source": [
        "class TrB(object):\n",
        "  \n",
        "  def __call__(self, sample):\n",
        "    x = sample[0] + 10\n",
        "    y = sample[1]*2\n",
        "    sample = x, y\n",
        "    return sample"
      ],
      "metadata": {
        "id": "MYLvXtAfnhZq"
      },
      "execution_count": 8,
      "outputs": []
    },
    {
      "cell_type": "code",
      "source": [
        "tr_composed = transforms.Compose([TrA(10), TrB()])\n",
        "ds2 = MyDataset(transform=tr_composed)\n",
        "for i in range(3):\n",
        "  x, y = ds2[i]\n",
        "  print(x, y)"
      ],
      "metadata": {
        "colab": {
          "base_uri": "https://localhost:8080/"
        },
        "id": "op3Uj-qAu7Cr",
        "outputId": "7f7245d9-2a86-441c-8806-ed9667d58e27"
      },
      "execution_count": 9,
      "outputs": [
        {
          "output_type": "stream",
          "name": "stdout",
          "text": [
            "tensor([110., 210.], dtype=torch.float64) tensor(40., dtype=torch.float64)\n",
            "tensor([ 60., 260.], dtype=torch.float64) tensor(20., dtype=torch.float64)\n",
            "tensor([30., 80.], dtype=torch.float64) tensor(0., dtype=torch.float64)\n"
          ]
        }
      ]
    },
    {
      "cell_type": "code",
      "source": [
        ""
      ],
      "metadata": {
        "id": "RQNhV4CvvM8N"
      },
      "execution_count": null,
      "outputs": []
    }
  ]
}